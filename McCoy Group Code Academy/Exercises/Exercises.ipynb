{
 "cells": [
  {
   "cell_type": "markdown",
   "metadata": {},
   "source": [
    "# Exercises\n",
    "\n",
    "This is the JupyterLab landing page for the [McCode Academy](https://mccoygroup.github.io/References/McCoy%20Group%20Code%20Academy/) exercises. \n",
    "We're supplying the exercises here, too, so that you can run them in the browser without needing to download anything.\n",
    "We _do_ recommend downloading them, once you're done, so that you have a working reference implementation to go back to, but we think the convenience of having everything in place is good.\n",
    "\n",
    "Have fun!"
   ]
  }
 ],
 "metadata": {
  "kernelspec": {
   "display_name": "Python 3 (venv)",
   "language": "python",
   "name": "python_3_venv"
  },
  "language_info": {
   "codemirror_mode": {
    "name": "ipython",
    "version": 3
   },
   "file_extension": ".py",
   "mimetype": "text/x-python",
   "name": "python",
   "nbconvert_exporter": "python",
   "pygments_lexer": "ipython3",
   "version": "3.7.0"
  },
  "pycharm": {
   "stem_cell": {
    "cell_type": "raw",
    "metadata": {
     "collapsed": false
    },
    "source": [
     "\n",
     "\n"
    ]
   }
  }
 },
 "nbformat": 4,
 "nbformat_minor": 1
}
