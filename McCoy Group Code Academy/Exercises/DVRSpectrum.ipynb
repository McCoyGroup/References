{
 "cells": [
  {
   "cell_type": "markdown",
   "metadata": {},
   "source": [
    "# DVR Spectrum Generator\n",
    "\n",
    "This exercise will give you experience ingesting data, calculating properties using DVR wavefunctions, interpolating functions, and plotting spectra "
   ]
  },
  {
   "cell_type": "code",
   "execution_count": 1,
   "metadata": {},
   "outputs": [],
   "source": [
    "# These were suggested to me by our very own Dr. Victor\n",
    "# they should check if you've made changed in DVRSpectrum.py or anything we're using\n",
    "%load_ext autoreload\n",
    "%autoreload 2"
   ]
  },
  {
   "cell_type": "markdown",
   "metadata": {},
   "source": [
    "## Test Your Code\n",
    "\n",
    "Once you think you've completed the exercise, you can load the `DVRSpectrumGenerator` you designed from it and we can test that. You'll need to make sure you've downloaded the downloaded the `Data` and `Fundamentals` folders, since `DVRSpectrumGenerator` makes use of the `PlottingData` and `InterpolatingIn1D` fundamentals."
   ]
  },
  {
   "cell_type": "code",
   "execution_count": 4,
   "metadata": {},
   "outputs": [],
   "source": [
    "from DVRSpectrum import DVRSpectrumGenerator"
   ]
  },
  {
   "cell_type": "markdown",
   "metadata": {},
   "source": [
    "We've provided you with some sample data files to get you started. These files are all for an OH stretch in water."
   ]
  },
  {
   "cell_type": "code",
   "execution_count": 5,
   "metadata": {},
   "outputs": [],
   "source": [
    "inputs_file = \"Data/DVRSpectrum_inputs.npz\"\n",
    "anharmonics_file = \"Data/DVRSpectrum_anharmonic.npz\"\n",
    "harmonics_file = \"Data/DVRSpectrum_harmonic.npz\""
   ]
  },
  {
   "cell_type": "markdown",
   "metadata": {},
   "source": [
    "We can look at the spectrum generated for the proper anharmonic wave function"
   ]
  },
  {
   "cell_type": "code",
   "execution_count": null,
   "metadata": {},
   "outputs": [],
   "source": [
    "anharmonic = DVRSpectrumGenerator(inputs_file, anharmonics_file)\n",
    "anh_spec = anharmonic.plot_spectrum()\n",
    "anh_spec.show()"
   ]
  },
  {
   "cell_type": "markdown",
   "metadata": {},
   "source": [
    "Or for the harmonic approximation wave function"
   ]
  },
  {
   "cell_type": "code",
   "execution_count": null,
   "metadata": {},
   "outputs": [],
   "source": [
    "anharmonic = DVRSpectrumGenerator(inputs_file, anharmonics_file)\n",
    "harm_spec = anharmonic.plot_spectrum()\n",
    "harm_spec.show()"
   ]
  },
  {
   "cell_type": "markdown",
   "metadata": {},
   "source": [
    "## Adventure Time\n",
    "\n",
    "At this point, you should go explore for yourself!\n",
    "\n",
    "Optimally, you'd go back to your DVR implementation and use that to generate a bunch of new input & results files and then feed those through this code to see what your spectra look like.\n",
    "\n",
    "You should also go back and do a direct comparison of the anharmonic and harmonic spectra. To do this, note that we wrote `plot_spectrum` so that it can take an existing plot and plot a new plot on top of that plot.\n",
    "\n",
    "Finally, don't forget to try the different approximations to the dipole that we made sure to support (i.e. `\"linear\"`, `\"quadratic\"`) and feel free to extend that to other kinds of approximations!"
   ]
  },
  {
   "cell_type": "code",
   "execution_count": null,
   "metadata": {},
   "outputs": [],
   "source": []
  }
 ],
 "metadata": {
  "kernelspec": {
   "display_name": "Python 3 (venv)",
   "language": "python",
   "name": "python_3_venv"
  },
  "language_info": {
   "codemirror_mode": {
    "name": "ipython",
    "version": 3
   },
   "file_extension": ".py",
   "mimetype": "text/x-python",
   "name": "python",
   "nbconvert_exporter": "python",
   "pygments_lexer": "ipython3",
   "version": "3.7.0"
  },
  "pycharm": {
   "stem_cell": {
    "cell_type": "raw",
    "metadata": {
     "collapsed": false
    },
    "source": [
     "\n",
     "\n"
    ]
   }
  }
 },
 "nbformat": 4,
 "nbformat_minor": 1
}
